{
 "cells": [
  {
   "cell_type": "markdown",
   "metadata": {},
   "source": [
    "# Simulations of ideal-observer model"
   ]
  },
  {
   "cell_type": "code",
   "execution_count": 653,
   "metadata": {
    "collapsed": true
   },
   "outputs": [],
   "source": [
    "from ipywidgets import interact, interactive, fixed, interact_manual\n",
    "import ipywidgets as widgets\n",
    "from IPython.display import display\n",
    "%matplotlib inline\n",
    "import matplotlib.pyplot as plt; plt.rcdefaults()\n",
    "import matplotlib.pyplot as plt\n",
    "import numpy as np\n",
    "from scipy.stats import rv_discrete, beta, gamma, norm\n",
    "from scipy import stats\n",
    "import scipy\n",
    "import random\n",
    "import sqlite3\n",
    "# import scipy.stats"
   ]
  },
  {
   "cell_type": "markdown",
   "metadata": {},
   "source": [
    "We define in the next cell the SQLite database used to store results"
   ]
  },
  {
   "cell_type": "code",
   "execution_count": 677,
   "metadata": {},
   "outputs": [
    {
     "name": "stdout",
     "output_type": "stream",
     "text": [
      "database successfully created\n"
     ]
    }
   ],
   "source": [
    "db = sqlite3.connect(':memory:')\n",
    "\n",
    "def init_db(cur):\n",
    "    cur.execute('''CREATE TABLE Results (\n",
    "        TrialNb UNSIGNED BIG INT,\n",
    "        Decision FLOAT,\n",
    "        Correct SMALLINT,\n",
    "        TimeLastCp DOUBLE PRECISION, \n",
    "        TrialDuration FLOAT)''')\n",
    "\n",
    "def populate_db(cur, var1, var2, var3, var4, var5):\n",
    "    try:\n",
    "        cur.execute('''\n",
    "            INSERT INTO Results (TrialNb, Decision, Correct, TimeLastCp, TrialDuration)\n",
    "            VALUES (?, ?, ?, ?, ?)''', (var1, var2, var3, var4, var5))\n",
    "    except:\n",
    "        raise\n",
    "    else:\n",
    "        db.commit()\n",
    "\n",
    "cur = db.cursor()\n",
    "init_db(cur)\n",
    "print('database successfully created')\n",
    "\n",
    "# Code to explore database\n",
    "# cursor = cur.execute('''SELECT * FROM Results''')\n",
    "# for row in cursor:\n",
    "#    print(\"Trial nb = \", row[0])\n",
    "#    print(\"Decision = \", row[1])\n",
    "#    print(\"Correct = \", row[2])\n",
    "#    print(\"Time since last cp = \", row[3], \"\\n\")"
   ]
  },
  {
   "cell_type": "markdown",
   "metadata": {},
   "source": [
    "Main documentation for this file is this [Wiki page](https://github.com/aernesto/dots-reversal-ideal-obs/wiki/Python-classes-and-methods)"
   ]
  },
  {
   "cell_type": "markdown",
   "metadata": {},
   "source": [
    "# Class definition"
   ]
  },
  {
   "cell_type": "markdown",
   "metadata": {},
   "source": [
    "![Classes diagram](images_Jupyter_1/classdiag.png)"
   ]
  },
  {
   "cell_type": "code",
   "execution_count": 679,
   "metadata": {
    "collapsed": true
   },
   "outputs": [],
   "source": [
    "class Experiment(object):\n",
    "    def __init__(self, setof_stim_noise, exp_dt, setof_trial_dur, setof_h, tot_trial, states=np.array([-1, 1]),\n",
    "                 exp_prior=np.array([.5,.5])):\n",
    "        self.states = states\n",
    "        self.setof_stim_noise = setof_stim_noise\n",
    "        self.setof_trial_dur = setof_trial_dur  # for now an integer in msec.\n",
    "        self.tot_trial = tot_trial\n",
    "#         self.outputs = outputs\n",
    "        self.setof_h = setof_h\n",
    "        self.results = []\n",
    "        self.exp_prior = exp_prior  # TODO: check that entries >=0 and sum to 1\n",
    "        \n",
    "        # exp_dt = 40 msec corresponds to 25 frames/sec (for stimulus presentation)\n",
    "        try:\n",
    "            if (self.setof_trial_dur % exp_dt) == 0:\n",
    "                self.exp_dt = exp_dt  # in msec\n",
    "            else:\n",
    "                raise AttributeError(\"Error in arguments: the Experiment's time\"\n",
    "                                     \"step size \"\n",
    "                                     \"'exp_dt' \"\n",
    "                                     \"does not divide \"\n",
    "                                     \"the trial durations 'setof_trial_dur'\")\n",
    "        except AttributeError as err:\n",
    "            print(err.args)\n",
    "\n",
    "    # function that switches the environment state that is given as argument\n",
    "    def switch(self, H):\n",
    "        try:\n",
    "            # might be more elegant to use elseif syntax below\n",
    "            if H in self.states:\n",
    "                if H == self.states[0]:\n",
    "                    return self.states[1]\n",
    "                else:\n",
    "                    return self.states[0]\n",
    "            else:\n",
    "                raise ValueError(\"Error in argument H: must be an element of \"\n",
    "                                 \"Experiment.states\")\n",
    "        except AttributeError as err:\n",
    "            print(err.args)\n",
    "\n",
    "    def launch(self, observer, singleTrialOutputs, multiTrialOutputs):\n",
    "        # boolean variables telling the script what to plot\n",
    "        # plots are produced for a single trial ONLY if the total number of trials is 1\n",
    "        # plots are produced for several trials ONLY if the total number of trials is > 1\n",
    "        if self.tot_trial == 1:\n",
    "            printEnvt = singleTrialOutputs[0]\n",
    "            printStim = singleTrialOutputs[1]\n",
    "            printLLR = singleTrialOutputs[2]\n",
    "            multi = False\n",
    "            raw_perf = False\n",
    "            perf_lastcp = False\n",
    "        else:\n",
    "            printEnvt = False\n",
    "            printStim = False\n",
    "            printLLR = False\n",
    "            multi = True\n",
    "            raw_perf = multiTrialOutputs[0]\n",
    "            perf_lastcp = multiTrialOutputs[1]\n",
    "        \n",
    "        for trial_idx in range(self.tot_trial):\n",
    "            h = self.setof_h                    # true hazard rate for current trial\n",
    "            duration = self.setof_trial_dur     # trial duration in msec\n",
    "            stim_noise = self.setof_stim_noise  # std dev of stimulus generation conditional probability density\n",
    "            trial_number = trial_idx\n",
    "            \n",
    "            # select initial true environment state for current trial\n",
    "            if np.random.uniform() < self.exp_prior[0]:\n",
    "                init_state = self.states[0]\n",
    "            else:\n",
    "                init_state = self.states[1]\n",
    "                \n",
    "            curr_exp_trial = ExpTrial(self, h, duration, stim_noise,\n",
    "                                      trial_number, init_state, printEnvt)\n",
    "            curr_stim = Stimulus(curr_exp_trial, printStim)\n",
    "            curr_obs_trial = ObsTrial(curr_exp_trial, curr_stim, observer.dt, self, \n",
    "                                      observer.prior_states, observer.prior_h)\n",
    "            curr_obs_trial.infer(printLLR)\n",
    "            \n",
    "            # gather variables to store in database\n",
    "            if multi:\n",
    "                trial_duration = curr_exp_trial.duration / 1000  # in seconds\n",
    "                cp = curr_exp_trial.cp_times\n",
    "                if cp.size > 0:\n",
    "                    time_last_cp = trial_duration - curr_exp_trial.cp_times[-1]\n",
    "                else:\n",
    "                    time_last_cp = trial_duration\n",
    "                dec = curr_obs_trial.decision\n",
    "                correct = (dec == curr_exp_trial.end_state)\n",
    "                print(dec, correct)\n",
    "                populate_db(cur, trial_idx, dec, correct, time_last_cp, trial_duration)\n",
    "            \n",
    "        # curr_exp_trial.save()\n",
    "        #            curr_obs_trial.save()\n",
    "        self.save()\n",
    "\n",
    "    def save(self):\n",
    "        print('Supposed to save here')  # temporary\n",
    "        cursor = cur.execute('''SELECT * FROM Results''')\n",
    "        for row in cursor:\n",
    "            print(\"Trial nb = \", row[0])\n",
    "            print(\"Decision = \", row[1])\n",
    "            print(\"Correct = \", row[2])\n",
    "            print(\"Time since last cp = \", row[3])\n",
    "            print(\"Trial duration\", row[4], \"\\n\")\n",
    "    def parallel_launch(self):\n",
    "        return 0  # temporary"
   ]
  },
  {
   "cell_type": "code",
   "execution_count": 656,
   "metadata": {
    "collapsed": true
   },
   "outputs": [],
   "source": [
    "class ExpTrial(object):\n",
    "    def __init__(self, expt, h, duration, stim_noise, trial_number,\n",
    "                 init_state, printEnvt):\n",
    "        self.expt = expt\n",
    "        self.true_h = h\n",
    "        self.duration = duration  # msec\n",
    "        self.stim_noise = stim_noise\n",
    "        self.trial_number = trial_number\n",
    "        self.init_state = init_state\n",
    "        self.cp_times = self.gen_cp(self.duration, self.true_h, printEnvt)\n",
    "        self.end_state = self.compute_endstate(self.cp_times.size)\n",
    "        self.tot_trial = self.expt.tot_trial\n",
    "\n",
    "    def compute_endstate(self, ncp):\n",
    "        # the fact that the last state equals the initial state depends on\n",
    "        # the evenness of the number of change points.\n",
    "        if ncp % 2 == 0:\n",
    "            return self.init_state\n",
    "        else:\n",
    "            return self.expt.switch(self.init_state)\n",
    "\n",
    "    #    def save(self):\n",
    "    #        print('stimulus is:')\n",
    "    #        print(self.stim)\n",
    "\n",
    "    # the following is the likelihood used to generate stimulus values,\n",
    "    #  given the true state H of the environment\n",
    "    def randlh(self, H):\n",
    "        # try clause might be redundant (because switch method does it)\n",
    "        try:\n",
    "            if H in self.expt.states:\n",
    "                return np.random.normal(H, self.stim_noise)\n",
    "            else:\n",
    "                raise ValueError(\"Error in argument H: must be an element of \"\n",
    "                                 \"Experiment.states\")\n",
    "        except ValueError as err:\n",
    "            print(err.args)\n",
    "\n",
    "    '''\n",
    "    generates poisson train of duration milliseconds with rate true_h in Hz, \n",
    "    using the Gillespie algorithm.\n",
    "    \n",
    "    print statements are only there for debugging purposes\n",
    "    '''\n",
    "    def gen_cp(self, duration, true_h, printEnvt):\n",
    "        # TODO: Generate a warning if >1 ch-pt occur in Experiment.exp_dt window\n",
    "        # print('launching gen_cp')\n",
    "\n",
    "        # convert duration into seconds.\n",
    "        secdur = duration / 1000.0\n",
    "        # print('secdur = '), secdur\n",
    "        '''\n",
    "        pre-allocate ten times the mean array size \n",
    "        for speed, will be shrinked after computation\n",
    "        '''\n",
    "        nEntries = int(np.ceil(10 * true_h * secdur))\n",
    "        # print('allocated entries = '), nEntries\n",
    "\n",
    "        t = np.zeros(nEntries)\n",
    "        if nEntries == 0:\n",
    "            print('change point times are')\n",
    "            print(t)\n",
    "            return t\n",
    "            \n",
    "        totalTime = 0\n",
    "        eventIdx = -1\n",
    "\n",
    "        while totalTime < secdur:\n",
    "            sojournTime = np.random.exponential(1. / true_h)\n",
    "            totalTime += sojournTime\n",
    "            eventIdx += 1\n",
    "            t[eventIdx] = totalTime\n",
    "\n",
    "        # trim unused nodes, and maybe last event if occurred beyond secdur\n",
    "\n",
    "        # print t[0:10]\n",
    "        lastEvent, idxLastEvent = t.max(0), t.argmax(0)\n",
    "        # print 'lastEvent = ', lastEvent, 'idxLastEvent = ', idxLastEvent\n",
    "\n",
    "        if lastEvent > secdur:\n",
    "            idxLastEvent -= 1\n",
    "\n",
    "        if idxLastEvent == -1:\n",
    "            t = np.zeros((0, 1))\n",
    "        else:\n",
    "            t = t[0:int(idxLastEvent) + 1]\n",
    "\n",
    "        if printEnvt:\n",
    "            if t.size == 0:\n",
    "                x = np.array([0, secdur])\n",
    "                y = np.array([self.init_state, self.init_state])\n",
    "            else:\n",
    "                x = np.insert(t, 0, 0)\n",
    "                x = np.append(x, secdur)\n",
    "                xpoints = x.size\n",
    "                y = np.zeros(xpoints)\n",
    "                y[0]=self.init_state\n",
    "                last_envt = self.init_state\n",
    "                for jjj in np.arange(1,xpoints):\n",
    "                    new_envt = self.expt.switch(last_envt)\n",
    "                    if jjj == xpoints - 1:\n",
    "                        y[jjj] = last_envt\n",
    "                    else:\n",
    "                        y[jjj] = new_envt\n",
    "                    last_envt = new_envt\n",
    "            \n",
    "#             print(y)\n",
    "            fig = plt.figure()                                                               \n",
    "            ax = fig.add_subplot(1,1,1)  \n",
    "            ticks = np.array([0, 1]) \n",
    "            ax.set_yticks(ticks)\n",
    "            ax.set_xticks(x)\n",
    "            ax.set_ylim([self.expt.states[0]-1,self.expt.states[1]+1])\n",
    "            labels=['H - ','H +']\n",
    "            plt.yticks(self.expt.states, labels)\n",
    "            plt.step(x, y, where='post')\n",
    "            plt.title('Environment')\n",
    "            plt.xlabel('time (seconds)')\n",
    "            plt.show()\n",
    "#         print('change point times are')\n",
    "#         print(t)\n",
    "        return t"
   ]
  },
  {
   "cell_type": "code",
   "execution_count": 657,
   "metadata": {
    "collapsed": true
   },
   "outputs": [],
   "source": [
    "class Stimulus(object):\n",
    "    def __init__(self, exp_trial, printStim):\n",
    "        self.exp_trial = exp_trial\n",
    "        self.trial_number = self.exp_trial.trial_number\n",
    "        \n",
    "        self.binsize = self.exp_trial.expt.exp_dt  # in msec\n",
    "\n",
    "        # number of bins, i.e. number of stimulus values to compute\n",
    "        # the first bin has 0 width and corresponds to the stimulus presentation\n",
    "        # at the start of the trial, when t = 0.\n",
    "        # So for a trial of length T = N x exp_dt msecs, there will be an observation\n",
    "        # at t = 0, t = exp_dt, t = 2 x exp_dt, ... , t = T \n",
    "        self.nbins = int(self.exp_trial.duration / self.binsize) + 1  \n",
    "\n",
    "        self.stim = self.gen_stim(printStim)\n",
    "        \n",
    "    def gen_stim(self, printStim):\n",
    "\n",
    "        # stimulus vector to be filled by upcoming while loop\n",
    "        stimulus = np.zeros(self.nbins)\n",
    "\n",
    "        ncp = self.exp_trial.cp_times.size  # number of change points\n",
    "        \n",
    "        # loop variables\n",
    "        bin_nb = 0  # we start counting bins from 0\n",
    "        last_envt = self.exp_trial.init_state\n",
    "        next_cp_idx = 0\n",
    "        non_passed = True  \n",
    "\n",
    "        for bin_nb in np.arange(self.nbins):\n",
    "            # exact time in msec, of current bin\n",
    "            curr_time = bin_nb * self.binsize \n",
    "            \n",
    "            # Control flow setting current environment\n",
    "            if ncp == 0:  # no change point\n",
    "                curr_envt = last_envt\n",
    "            else:\n",
    "                next_cp = 1000 * self.exp_trial.cp_times[next_cp_idx]  # next change point time in msec\n",
    "                if curr_time < next_cp:  # current bin ends before next cp\n",
    "                    curr_envt = last_envt\n",
    "                else:  # current bin ends after next cp\n",
    "                    if non_passed:      \n",
    "                        curr_envt = self.exp_trial.expt.switch(last_envt)\n",
    "                        if next_cp_idx < ncp - 1:\n",
    "                            next_cp_idx += 1\n",
    "                        else:\n",
    "                            non_passed = False  # last change point passed\n",
    "                    else:\n",
    "                        curr_envt = last_envt\n",
    "\n",
    "#             print('time, envt', curr_time, curr_envt)\n",
    "            # compute likelihood to generate stimulus value\n",
    "            stimulus[bin_nb] = self.exp_trial.randlh(curr_envt)\n",
    "\n",
    "            # update variables for next iteration\n",
    "            last_envt = curr_envt\n",
    "            \n",
    "        # plot stimulus trace\n",
    "        if printStim:\n",
    "#             plt.figure()\n",
    "            plt.plot(np.arange(self.nbins), stimulus, 'o')\n",
    "            plt.title('stimulus / observations')\n",
    "            plt.show()\n",
    "                     \n",
    "#         print('stimulus created')\n",
    "#         print(stimulus)\n",
    "        return stimulus"
   ]
  },
  {
   "cell_type": "code",
   "execution_count": 658,
   "metadata": {
    "collapsed": true
   },
   "outputs": [],
   "source": [
    "class IdealObs(object):\n",
    "    def __init__(self, dt, expt, prior_states=np.array([.5, .5]), prior_h=np.array([1, 1])):\n",
    "        self.expt = expt  # reference to Experiment object\n",
    "        try:\n",
    "            if (self.expt.setof_trial_dur % dt) == 0:\n",
    "                self.dt = dt  # in msec\n",
    "            else:\n",
    "                raise AttributeError(\"Error in arguments: the observer's time\"\n",
    "                                     \"step size \"\n",
    "                                     \"'dt' \"\n",
    "                                     \"does not divide \"\n",
    "                                     \"the trial durations 'setof_trial_dur'\")\n",
    "        except AttributeError as err:\n",
    "            print(err.args)\n",
    "\n",
    "        self.prior_h = prior_h\n",
    "        self.prior_states = prior_states  # TODO: check that prior_states is a stochastic vector\n",
    "        \n",
    "        self.obs_noise = self.expt.setof_stim_noise\n",
    "        \n",
    "    # the following is the likelihood used by the ideal observer\n",
    "    # H = assumed state of the environment\n",
    "    # x = point at which to evaluate the pdf\n",
    "    def lh(self, H, x):\n",
    "        try:\n",
    "            if H in self.expt.states:\n",
    "                return scipy.stats.norm(H, self.obs_noise).pdf(x)\n",
    "            else:\n",
    "                raise ValueError(\"Error in argument H: must be an element of \"\n",
    "                                 \"Experiment.states\")\n",
    "        except ValueError as err:\n",
    "            print(err.args)"
   ]
  },
  {
   "cell_type": "code",
   "execution_count": 659,
   "metadata": {
    "collapsed": true
   },
   "outputs": [],
   "source": [
    "class ObsTrial(IdealObs):\n",
    "    def __init__(self, exp_trial, stimulus, dt, expt, prior_states=np.array([.5, .5]), prior_h=np.array([1, 1])):\n",
    "        super().__init__(dt, expt, prior_states, prior_h)\n",
    "        self.exp_trial = exp_trial\n",
    "        self.stimulus = stimulus\n",
    "        self.llr = np.zeros(self.stimulus.nbins)\n",
    "        self.decision = 0\n",
    "        self.obs_noise = self.exp_trial.stim_noise\n",
    "        self.trial_number = self.exp_trial.trial_number\n",
    "        # artificial observations for testing purposes\n",
    "#         self.obs = np.array([0.7, -0.2, -2, 3.6])\n",
    "        self.obs = self.gen_obs()\n",
    "\n",
    "    def gen_obs(self):\n",
    "        return self.stimulus.stim\n",
    "\n",
    "#     def lh(self, H, x):\n",
    "#         IdealObs.lh(H.x)\n",
    "    \n",
    "    def infer(self, printLLR):\n",
    "        #  initialize variables\n",
    "        Hp = self.expt.states[1]\n",
    "        Hm = self.expt.states[0]\n",
    "        joint_plus_new = np.zeros(self.stimulus.nbins)\n",
    "        joint_plus_current = np.copy(joint_plus_new)\n",
    "        joint_minus_new = np.copy(joint_plus_new)\n",
    "        joint_minus_current = np.copy(joint_plus_new)\n",
    "        alpha = self.prior_h[0]\n",
    "        priorPrec = self.prior_h.sum()\n",
    "        Pp = np.zeros([self.stimulus.nbins,self.stimulus.nbins])\n",
    "        Pm = np.copy(Pp)\n",
    "        \n",
    "        # get first observation\n",
    "        x = self.obs[0]\n",
    "#         print('first obs = ', x)\n",
    "#         print('Hp = ', Hp)\n",
    "        \n",
    "        # First time step \n",
    "        # compute joint posterior after first observation: P_{t=0}(H,a=0) --- recall first obs at t=0\n",
    "        joint_minus_current[0] = self.lh(Hm, x) * self.prior_states[0]\n",
    "        joint_plus_current[0] = self.lh(Hp, x) * self.prior_states[1]\n",
    "\n",
    "#         print(joint_plus_current)\n",
    "        Fd = joint_plus_current[0] + joint_minus_current[0]\n",
    "        joint_plus_current[0] = joint_plus_current[0] / Fd\n",
    "#         print(joint_plus_current[0])\n",
    "        joint_minus_current[0] = joint_minus_current[0] / Fd\n",
    "\n",
    "        # compute marginals over state\n",
    "        lp = joint_plus_current[0]\n",
    "        lm = joint_minus_current[0]\n",
    "        self.llr[0] = np.log(lp / lm)  # log posterior odds ratio\n",
    "        Pp[:,0] = joint_plus_current.copy()\n",
    "        Pm[:,0] = joint_minus_current.copy()\n",
    "        \n",
    "        # pursue algorithm if interrogation time is greater than 0\n",
    "        if self.exp_trial.duration == 0:\n",
    "            print('trial has duration 0 msec')\n",
    "            # todo: find a way to exit the function\n",
    "        \n",
    "        for j in np.arange(self.stimulus.nbins - 1):\n",
    "#             print('j',j)\n",
    "            # make an observation\n",
    "            x = self.obs[j + 1]\n",
    "            \n",
    "            # compute likelihoods\n",
    "            xp = self.lh(Hp, x)\n",
    "            xm = self.lh(Hm, x)\n",
    "            \n",
    "            # update the boundaries (with 0 and j changepoints)\n",
    "#             print('alpha, priorPrec=',alpha,priorPrec)\n",
    "            ea = 1 - alpha / (j + priorPrec)\n",
    "            eb = (j + alpha) / (j + priorPrec)\n",
    "#             print('ea,eb', ea, eb)\n",
    "            joint_plus_new[0] = xp * ea * joint_plus_current[0]\n",
    "            joint_minus_new[0] = xm * ea * joint_minus_current[0]\n",
    "            joint_plus_new[j + 1] = xp * eb * joint_minus_current[j]\n",
    "            joint_minus_new[j + 1] = xm * eb * joint_plus_current[j]\n",
    "#             if j == 2:\n",
    "#                 print('Hpn', joint_plus_new)\n",
    "#                 print('Hmn', joint_minus_new)\n",
    "            # update the interior values\n",
    "            if j > 0:\n",
    "                vk = np.arange(2, j + 2);\n",
    "#                 print('vk',vk)\n",
    "                ep = 1 - (vk - 1 + alpha) / (j + priorPrec)   #no change\n",
    "                em = (vk - 2 + alpha) / (j + priorPrec)       #change\n",
    "#                 print('ep, em =', ep, em)\n",
    "#                 if j == 2:\n",
    "#                     print(xp)\n",
    "#                     print(xm)\n",
    "#                     print(joint_plus_current)\n",
    "#                     print(joint_minus_current)\n",
    "#                     print(vk)\n",
    "#                     print(joint_plus_current[vk - 1])\n",
    "#                     print(joint_minus_current[vk - 2])\n",
    "                joint_plus_new[vk - 1] = xp * (np.multiply(ep, joint_plus_current[vk - 1]) +\n",
    "                              np.multiply(em, joint_minus_current[vk - 2]))\n",
    "                joint_minus_new[vk - 1] = xm * (np.multiply(ep, joint_minus_current[vk - 1]) + \n",
    "                                            np.multiply(em,joint_plus_current[vk - 2]))\n",
    "                \n",
    "            # sum probabilities in order to normalize\n",
    "#             if j == 2:\n",
    "#                 print('Hpn', joint_plus_new)\n",
    "#                 print('Hmn', joint_minus_new)                \n",
    "            Hs = joint_plus_new.sum() + joint_minus_new.sum()\n",
    "#             print('sum Hpn', joint_plus_new.sum())\n",
    "#             print('sum Hmn', joint_minus_new.sum())\n",
    "#             if j == 2:\n",
    "#                 print('Hs = ', Hs)\n",
    "            joint_plus_current = joint_plus_new / Hs\n",
    "            joint_minus_current = joint_minus_new / Hs\n",
    "#             if j == 2:\n",
    "#                 print(joint_plus_current)\n",
    "#                 print(joint_minus_current)\n",
    "            Pp[:, j + 1] = joint_plus_current.copy()\n",
    "            Pm[:, j + 1] = joint_minus_current.copy()\n",
    "            #compute marginals over state if last iteration\n",
    "#             if j >= self.stimulus.nbins - 3:\n",
    "            lp = joint_plus_current.sum()\n",
    "            lm = joint_minus_current.sum() \n",
    "            self.llr[j + 1] = np.log(lp / lm)\n",
    "#             print('j',j)\n",
    "#             if j>0:\n",
    "#                 print('vk',vk)\n",
    "#             print('ea, eb',ea, eb)\n",
    "#             if j>0:\n",
    "#                 print('ep, em',ep, em)\n",
    "#             print('Hpn',joint_plus_new)\n",
    "#             print('Hmn',joint_minus_new)    \n",
    "#             print('Hpc',joint_plus_current)\n",
    "#             print('Hmc',joint_minus_current)\n",
    "                \n",
    "                \n",
    "#         print(lp)\n",
    "#         print(lm)\n",
    "#         print(Pp)\n",
    "#         print(Pm)\n",
    "        # compute decision (interrogate the system)\n",
    "        if np.sign(np.log(lp / lm)) == -1:\n",
    "            self.decision = Hm\n",
    "        elif np.sign(np.log(lp / lm)) == 1:\n",
    "            self.decision = Hp\n",
    "        else:\n",
    "            if np.random.uniform() < 0.5:\n",
    "                self.decision = Hm\n",
    "            else:\n",
    "                self.decision = Hp\n",
    "                \n",
    "        # plot log posterior odds ratio trace\n",
    "        if printLLR:\n",
    "#             plt.figure()\n",
    "            plt.plot(np.arange(self.stimulus.nbins), self.llr, 'r-')\n",
    "            plt.axhline(0, color='black')\n",
    "            plt.title('log posterior odds ratio')\n",
    "            plt.show()\n",
    "            "
   ]
  },
  {
   "cell_type": "markdown",
   "metadata": {},
   "source": [
    "---\n",
    "# Interactive code"
   ]
  },
  {
   "cell_type": "markdown",
   "metadata": {},
   "source": [
    "## Choose the ideal-observer's prior over h"
   ]
  },
  {
   "cell_type": "markdown",
   "metadata": {},
   "source": [
    "Use the sliders below to set the values of the _mode_ and _variance_ of the gamma prior. No need to execute the cell after moving the sliders.  \n",
    "By executing the cell appearing right after the sliders, the plot of the pdf will be updated."
   ]
  },
  {
   "cell_type": "code",
   "execution_count": 660,
   "metadata": {},
   "outputs": [
    {
     "data": {
      "application/vnd.jupyter.widget-view+json": {
       "model_id": "505b179483ec49b1b7bc53e85ef01b37"
      }
     },
     "metadata": {},
     "output_type": "display_data"
    }
   ],
   "source": [
    "def g(mode=1.0, variance=3.0, true_h=1):\n",
    "    return np.array([mode, variance, true_h])\n",
    "ww = interactive(g, mode=(.01,10,0.01), variance=(0.01,100), true_h=(0.0,30.0,0.01))\n",
    "display(ww)"
   ]
  },
  {
   "cell_type": "code",
   "execution_count": 661,
   "metadata": {},
   "outputs": [
    {
     "data": {
      "image/png": "[encoded data removed]",
      "text/plain": [
       "<matplotlib.figure.Figure at 0x7f19cae115c0>"
      ]
     },
     "metadata": {},
     "output_type": "display_data"
    }
   ],
   "source": [
    "m, v, h = ww.result\n",
    "#m = 1  # mode of gamma pdf\n",
    "#v = 2 # var of gamma pdf\n",
    "beta = m / (2 * v) + np.sqrt(m**2 / (v**2) + 4 / v) / 2  # 1 / scale parameter of gamma pdf\n",
    "alpha = m * beta + 1   # shape parameter of gamma pdf\n",
    "x = np.linspace(gamma.ppf(0.0001, alpha, scale = 1 / beta),gamma.ppf(0.99, alpha, scale = 1 / beta), 5000)\n",
    "fig = plt.figure(1)\n",
    "ax = fig.add_subplot(111)\n",
    "y = gamma.pdf(x, alpha, scale = 1 / beta)\n",
    "plt.plot(x, y,'b-', lw=4, alpha=0.6, label='gamma pdf')\n",
    "plt.axvline(x=h, color='red', linestyle='--')\n",
    "xlim = ax.get_xlim()\n",
    "ax.annotate('true h', xy=(h, .25*y.max()), xytext=(.75*xlim[1], .5*y.max()),\n",
    "            arrowprops=dict(facecolor='black', shrink=0.05),\n",
    "            )\n",
    "plt.title('gamma prior over h')\n",
    "plt.xlabel('h (Hz)')\n",
    "plt.ylabel('pdf height')\n",
    "plt.show()"
   ]
  },
  {
   "cell_type": "code",
   "execution_count": 662,
   "metadata": {
    "collapsed": true
   },
   "outputs": [],
   "source": [
    "# This cell is for using the shape and 1/scale parameters of the gamma prior directly\n",
    "# def g(a=1.0, b=1.0):\n",
    "#     return np.array([a, b])\n",
    "# ww = interactive(g, a=(1,40), b=(1,40))\n",
    "# display(ww)"
   ]
  },
  {
   "cell_type": "markdown",
   "metadata": {},
   "source": [
    "## Choose ideal-observer's SNR"
   ]
  },
  {
   "cell_type": "code",
   "execution_count": 663,
   "metadata": {},
   "outputs": [
    {
     "data": {
      "application/vnd.jupyter.widget-view+json": {
       "model_id": "3caa7444ce8a45589f0582658d3de63e"
      }
     },
     "metadata": {},
     "output_type": "display_data"
    }
   ],
   "source": [
    "def f(SNR=1.0):\n",
    "    return SNR\n",
    "w = interactive(f, SNR=(0.01,500,0.01))\n",
    "display(w)"
   ]
  },
  {
   "cell_type": "code",
   "execution_count": 664,
   "metadata": {},
   "outputs": [
    {
     "data": {
      "image/png": "[encoded data removed]",
      "text/plain": [
       "<matplotlib.figure.Figure at 0x7f19cad648d0>"
      ]
     },
     "metadata": {},
     "output_type": "display_data"
    }
   ],
   "source": [
    "x = np.linspace(-4,4,1000)\n",
    "SNR = w.result\n",
    "sigma = 2 / SNR  # distance between means is 2 by default (-1,1)\n",
    "# print(sigma)\n",
    "plt.figure(2)\n",
    "plt.plot(x, norm.pdf(x,-1,sigma),'r-')\n",
    "plt.plot(x,norm.pdf(x,1,sigma),'b-')\n",
    "plt.title('likelihoods')\n",
    "plt.show()"
   ]
  },
  {
   "cell_type": "markdown",
   "metadata": {},
   "source": [
    "## Choose trial duration (msec)"
   ]
  },
  {
   "cell_type": "code",
   "execution_count": 665,
   "metadata": {},
   "outputs": [
    {
     "data": {
      "application/vnd.jupyter.widget-view+json": {
       "model_id": "9ff0d2a1141d430d888dac62b43d6bee"
      }
     },
     "metadata": {},
     "output_type": "display_data"
    }
   ],
   "source": [
    "x_widget = widgets.IntSlider(min=1, max=1000, value=40)\n",
    "y_widget = widgets.IntSlider(min=0, max=10000, value=1000, step=x_widget.value)\n",
    "\n",
    "def update_y_step(*args):\n",
    "    y_widget.step = x_widget.value\n",
    "x_widget.observe(update_y_step, 'value')\n",
    "\n",
    "def printer(dt, T):\n",
    "    print(int(T / dt + 1), ' observations per trial')\n",
    "interact(printer, dt=x_widget, T=y_widget);"
   ]
  },
  {
   "cell_type": "code",
   "execution_count": 666,
   "metadata": {
    "collapsed": true
   },
   "outputs": [],
   "source": [
    "dt = x_widget.value\n",
    "T = y_widget.value"
   ]
  },
  {
   "cell_type": "markdown",
   "metadata": {},
   "source": [
    "## Choose number of trials to simulate"
   ]
  },
  {
   "cell_type": "code",
   "execution_count": 667,
   "metadata": {},
   "outputs": [
    {
     "data": {
      "application/vnd.jupyter.widget-view+json": {
       "model_id": "d8fd7f06121e4eaebc89fed64500e3c8"
      }
     },
     "metadata": {},
     "output_type": "display_data"
    }
   ],
   "source": [
    "def jj(Trials=3):\n",
    "    return Trials\n",
    "xx = interactive(jj, Trials=(1,10000))\n",
    "display(xx)"
   ]
  },
  {
   "cell_type": "code",
   "execution_count": 668,
   "metadata": {
    "collapsed": true
   },
   "outputs": [],
   "source": [
    "Trials = xx.result"
   ]
  },
  {
   "cell_type": "markdown",
   "metadata": {},
   "source": [
    "## Select the outputs you are interested in\n",
    "### Single-trial outputs"
   ]
  },
  {
   "cell_type": "markdown",
   "metadata": {},
   "source": [
    "If you are planning to only simulate a single trial, choose the type of outputs that you want to display (plots)"
   ]
  },
  {
   "cell_type": "code",
   "execution_count": 669,
   "metadata": {},
   "outputs": [
    {
     "data": {
      "application/vnd.jupyter.widget-view+json": {
       "model_id": "02a572b345b44d81b152e88f85d53507"
      }
     },
     "metadata": {},
     "output_type": "display_data"
    }
   ],
   "source": [
    "def kk(envt=True, obs=True, LLR=True):\n",
    "    return (envt, obs, LLR)\n",
    "xxx = interactive(kk, envt=True, obs=True, LLR=True)\n",
    "display(xxx)"
   ]
  },
  {
   "cell_type": "code",
   "execution_count": 670,
   "metadata": {},
   "outputs": [],
   "source": [
    "envt, obs, LLR = xxx.result\n",
    "singleTrialOutputs = np.array([envt, obs, LLR])\n",
    "# print(singleTrialOutputs)"
   ]
  },
  {
   "cell_type": "markdown",
   "metadata": {},
   "source": [
    "### Multi-trial outputs"
   ]
  },
  {
   "cell_type": "code",
   "execution_count": 671,
   "metadata": {},
   "outputs": [
    {
     "data": {
      "application/vnd.jupyter.widget-view+json": {
       "model_id": "e3fa6f7fac6543efae408a7adc262edc"
      }
     },
     "metadata": {},
     "output_type": "display_data"
    }
   ],
   "source": [
    "def mm(raw_perf=True, perf_lastcp=True):\n",
    "    return (raw_perf, perf_lastcp)\n",
    "yyy = interactive(mm, raw_perf=True, perf_lastcp=True)\n",
    "display(yyy)"
   ]
  },
  {
   "cell_type": "code",
   "execution_count": 672,
   "metadata": {},
   "outputs": [
    {
     "name": "stdout",
     "output_type": "stream",
     "text": [
      "[ True  True]\n"
     ]
    }
   ],
   "source": [
    "raw_perf, perf_lastcp = yyy.result\n",
    "multiTrialOutputs = np.array([raw_perf, perf_lastcp])\n",
    "print(multiTrialOutputs)"
   ]
  },
  {
   "cell_type": "markdown",
   "metadata": {},
   "source": [
    "## Run simulations\n",
    "### Recap of your parameters"
   ]
  },
  {
   "cell_type": "code",
   "execution_count": 673,
   "metadata": {},
   "outputs": [
    {
     "name": "stdout",
     "output_type": "stream",
     "text": [
      "To change any of these parameter values, use the sliders above and re-compute each cell\n",
      "\n",
      "true h                       1.0\n",
      "gamma mode                   1.0\n",
      "gamma variance               3.0\n",
      "SNR                          1.0\n",
      "trial duration (msec)       1000\n",
      "stimulus timestep (msec)      40\n",
      "nb observations per trial     26\n",
      "nb of trials to simulate       3\n"
     ]
    }
   ],
   "source": [
    "print('{}\\n\\n\\\n",
    "{:24} {:>7}\\n\\\n",
    "{:24} {:>7}\\n\\\n",
    "{:24} {:>7}\\n\\\n",
    "{:24} {:>7}\\n\\\n",
    "{:24} {:>7}\\n\\\n",
    "{:24} {:>7}\\n\\\n",
    "{:24} {:>6}\\n\\\n",
    "{:24} {:>7}'.format('To change any of these parameter values, use the sliders above and re-compute each cell',\n",
    "                    'true h', h,\n",
    "                    'gamma mode', m, \n",
    "                    'gamma variance', v, \n",
    "                    'SNR', SNR,\n",
    "                    'trial duration (msec)', T, \n",
    "                    'stimulus timestep (msec)', dt,\n",
    "                    'nb observations per trial', int(T/dt)+1,\n",
    "                    'nb of trials to simulate', Trials))"
   ]
  },
  {
   "cell_type": "markdown",
   "metadata": {},
   "source": [
    "---\n",
    "### Launch script"
   ]
  },
  {
   "cell_type": "code",
   "execution_count": 680,
   "metadata": {},
   "outputs": [
    {
     "name": "stdout",
     "output_type": "stream",
     "text": [
      "-1 False\n",
      "1 True\n",
      "-1 False\n",
      "Supposed to save here\n",
      "Trial nb =  0\n",
      "Decision =  b'\\x01\\x00\\x00\\x00\\x00\\x00\\x00\\x00'\n",
      "Correct =  b'\\x01'\n",
      "Time since last cp =  1.0\n",
      "Trial duration 1.0 \n",
      "\n",
      "Trial nb =  1\n",
      "Decision =  b'\\x01\\x00\\x00\\x00\\x00\\x00\\x00\\x00'\n",
      "Correct =  b'\\x01'\n",
      "Time since last cp =  0.004429782267345805\n",
      "Trial duration 1.0 \n",
      "\n",
      "Trial nb =  2\n",
      "Decision =  b'\\x01\\x00\\x00\\x00\\x00\\x00\\x00\\x00'\n",
      "Correct =  b'\\x01'\n",
      "Time since last cp =  0.42512823151658474\n",
      "Trial duration 1.0 \n",
      "\n",
      "Trial nb =  0\n",
      "Decision =  b'\\xff\\xff\\xff\\xff\\xff\\xff\\xff\\xff'\n",
      "Correct =  b'\\x00'\n",
      "Time since last cp =  0.09041438011198788\n",
      "Trial duration 1.0 \n",
      "\n",
      "Trial nb =  1\n",
      "Decision =  b'\\x01\\x00\\x00\\x00\\x00\\x00\\x00\\x00'\n",
      "Correct =  b'\\x01'\n",
      "Time since last cp =  0.11017866292118872\n",
      "Trial duration 1.0 \n",
      "\n",
      "Trial nb =  2\n",
      "Decision =  b'\\xff\\xff\\xff\\xff\\xff\\xff\\xff\\xff'\n",
      "Correct =  b'\\x00'\n",
      "Time since last cp =  0.2075330451110361\n",
      "Trial duration 1.0 \n",
      "\n"
     ]
    }
   ],
   "source": [
    "random.seed()  # not sure this is the correct way to change the seed automatically\n",
    "Expt = Experiment(setof_stim_noise=sigma, exp_dt=dt, setof_trial_dur=T, setof_h=h,\n",
    "                  tot_trial=Trials)\n",
    "Observer = IdealObs(dt=Expt.exp_dt, expt=Expt, prior_h=np.array([alpha, beta]))\n",
    "Expt.launch(Observer, singleTrialOutputs, multiTrialOutputs)"
   ]
  },
  {
   "cell_type": "code",
   "execution_count": null,
   "metadata": {},
   "outputs": [],
   "source": [
    "a = np.array([-3,29])\n",
    "print(a[-1])"
   ]
  }
 ],
 "metadata": {
  "kernelspec": {
   "display_name": "Python 3",
   "language": "python",
   "name": "python3"
  },
  "language_info": {
   "codemirror_mode": {
    "name": "ipython",
    "version": 3
   },
   "file_extension": ".py",
   "mimetype": "text/x-python",
   "name": "python",
   "nbconvert_exporter": "python",
   "pygments_lexer": "ipython3",
   "version": "3.6.1"
  }
 },
 "nbformat": 4,
 "nbformat_minor": 2
}
