{
 "cells": [
  {
   "cell_type": "markdown",
   "metadata": {},
   "source": [
    "# Testing Jupyter interface"
   ]
  },
  {
   "cell_type": "code",
   "execution_count": 78,
   "metadata": {
    "collapsed": true
   },
   "outputs": [],
   "source": [
    "import numpy as np\n",
    "import scipy.stats"
   ]
  },
  {
   "cell_type": "markdown",
   "metadata": {},
   "source": [
    "Main documentation for this file is this [Wiki page](https://github.com/aernesto/dots-reversal-ideal-obs/wiki/Python-classes-and-methods)"
   ]
  },
  {
   "cell_type": "markdown",
   "metadata": {},
   "source": [
    "# Code originally from [class_tests_Adrian.py](https://github.com/aernesto/dots-reversal-ideal-obs/blob/master/class_tests_Adrian.py#L15)"
   ]
  },
  {
   "cell_type": "markdown",
   "metadata": {},
   "source": [
    "![Classes diagram](images_Jupyter_1/classdiag.png)"
   ]
  },
  {
   "cell_type": "markdown",
   "metadata": {},
   "source": [
    "## Overarching class"
   ]
  },
  {
   "cell_type": "code",
   "execution_count": 79,
   "metadata": {
    "collapsed": true
   },
   "outputs": [],
   "source": [
    "class Experiment(object):\n",
    "    def __init__(self, setof_stim_noise, exp_dt, setof_trial_dur, setof_h, tot_trial,\n",
    "                 outputs='perf_acc_last_cp', states=np.array([-1, 1]),\n",
    "                 exp_prior=np.array([.5,.5])):\n",
    "        self.states = states\n",
    "        self.setof_stim_noise = setof_stim_noise\n",
    "        self.setof_trial_dur = setof_trial_dur  # for now an integer in msec.\n",
    "        self.tot_trial = tot_trial\n",
    "        self.outputs = outputs\n",
    "        self.setof_h = setof_h\n",
    "        self.results = []\n",
    "        self.exp_prior = exp_prior  # TODO: check entries >=0 and sum to 1\n",
    "        \n",
    "        # exp_dt = 40 msec corresponds to 25 frames/sec (for stimulus presentation)\n",
    "        try:\n",
    "            if (self.setof_trial_dur % exp_dt) == 0:\n",
    "                self.exp_dt = exp_dt  # in msec\n",
    "            else:\n",
    "                raise AttributeError(\"Error in arguments: the Experiment's time\"\n",
    "                                     \"step size \"\n",
    "                                     \"'exp_dt' \"\n",
    "                                     \"does not divide \"\n",
    "                                     \"the trial durations 'setof_trial_dur'\")\n",
    "        except AttributeError as err:\n",
    "            print(err.args)\n",
    "\n",
    "    # function that switches the environment state that is given as argument\n",
    "    def switch(self, H):\n",
    "        try:\n",
    "            # might be more elegant to use elseif syntax below\n",
    "            if H in self.states:\n",
    "                if H == self.states[0]:\n",
    "                    return self.states[1]\n",
    "                else:\n",
    "                    return self.states[0]\n",
    "            else:\n",
    "                raise ValueError(\"Error in argument H: must be an element of \"\n",
    "                                 \"Experiment.states\")\n",
    "        except AttributeError as err:\n",
    "            print(err.args)\n",
    "\n",
    "    def launch(self, observer):\n",
    "        for trial_idx in range(self.tot_trial):\n",
    "            h = self.setof_h\n",
    "            duration = self.setof_trial_dur\n",
    "            stim_noise = self.setof_stim_noise\n",
    "            trial_number = trial_idx\n",
    "            if np.random.uniform() < self.exp_prior[0]:\n",
    "                init_state = self.states[0]\n",
    "            else:\n",
    "                init_state = self.states[1]\n",
    "            curr_exp_trial = ExpTrial(self, h, duration, stim_noise,\n",
    "                                      trial_number, init_state)\n",
    "            curr_stim = Stimulus(curr_exp_trial)\n",
    "            curr_obs_trial = ObsTrial(curr_exp_trial, curr_stim, observer.dt, self, observer.prior_states)\n",
    "            curr_obs_trial.infer()\n",
    "        # curr_exp_trial.save()\n",
    "        #            curr_obs_trial.save()\n",
    "        self.save()\n",
    "\n",
    "    def save(self):\n",
    "        print('Supposed to save here')  # temporary\n",
    "\n",
    "    def parallel_launch(self):\n",
    "        return 0  # temporary"
   ]
  },
  {
   "cell_type": "markdown",
   "metadata": {},
   "source": [
    "## Class for single trial constants"
   ]
  },
  {
   "cell_type": "code",
   "execution_count": 80,
   "metadata": {
    "collapsed": true
   },
   "outputs": [],
   "source": [
    "class ExpTrial(object):\n",
    "    def __init__(self, expt, h, duration, stim_noise, trial_number,\n",
    "                 init_state):\n",
    "        self.expt = expt\n",
    "        self.true_h = h\n",
    "        self.duration = duration  # msec\n",
    "        self.stim_noise = stim_noise\n",
    "        self.trial_number = trial_number\n",
    "        self.init_state = init_state\n",
    "        self.cp_times = self.gen_cp(self.duration, self.true_h)\n",
    "        self.end_state = self.compute_endstate(self.cp_times.size)\n",
    "        self.tot_trial = self.expt.tot_trial\n",
    "\n",
    "    def compute_endstate(self, ncp):\n",
    "        # the fact that the last state equals the initial state depends on\n",
    "        # the evenness of the number of change points.\n",
    "        if ncp % 2 == 0:\n",
    "            return self.init_state\n",
    "        else:\n",
    "            return self.expt.switch(self.init_state)\n",
    "\n",
    "    #    def save(self):\n",
    "    #        print('stimulus is:')\n",
    "    #        print(self.stim)\n",
    "\n",
    "    # the following is the likelihood used to generate stimulus values,\n",
    "    #  given the true state H of the environment\n",
    "    def randlh(self, H):\n",
    "        # try clause might be redundant (because switch method does it)\n",
    "        try:\n",
    "            if H in self.expt.states:\n",
    "                return np.random.normal(H, self.stim_noise)\n",
    "            else:\n",
    "                raise ValueError(\"Error in argument H: must be an element of \"\n",
    "                                 \"Experiment.states\")\n",
    "        except ValueError as err:\n",
    "            print(err.args)\n",
    "\n",
    "    '''\n",
    "    generates poisson train of duration milliseconds with rate true_h in Hz, \n",
    "    using the Gillespie algorithm.\n",
    "    \n",
    "    print statements are only there for debugging purposes\n",
    "    '''\n",
    "    def gen_cp(self, duration, true_h):\n",
    "        # TODO: Generate a warning if >1 ch-pt occur in Experiment.exp_dt window\n",
    "        # print('launching gen_cp')\n",
    "\n",
    "        # convert duration into seconds.\n",
    "        secdur = duration / 1000.0\n",
    "        # print('secdur = '), secdur\n",
    "        '''\n",
    "        pre-allocate ten times the mean array size \n",
    "        for speed, will be shrinked after computation\n",
    "        '''\n",
    "        nEntries = int(np.ceil(10 * true_h * secdur))\n",
    "        # print('allocated entries = '), nEntries\n",
    "\n",
    "        t = np.zeros((nEntries, 1))\n",
    "        totalTime = 0\n",
    "        eventIdx = -1\n",
    "\n",
    "        while totalTime < secdur:\n",
    "            sojournTime = np.random.exponential(1. / true_h)\n",
    "            totalTime += sojournTime\n",
    "            eventIdx += 1\n",
    "            t[eventIdx] = totalTime\n",
    "\n",
    "        # trim unused nodes, and maybe last event if occurred beyond secdur\n",
    "\n",
    "        # print t[0:10]\n",
    "        lastEvent, idxLastEvent = t.max(0), t.argmax(0)\n",
    "        # print 'lastEvent = ', lastEvent, 'idxLastEvent = ', idxLastEvent\n",
    "\n",
    "        if lastEvent > secdur:\n",
    "            idxLastEvent -= 1\n",
    "\n",
    "        if idxLastEvent == -1:\n",
    "            t = np.zeros((0, 1))\n",
    "        else:\n",
    "            t = t[0:int(idxLastEvent) + 1]\n",
    "\n",
    "        print('change point times are')\n",
    "        print(t)\n",
    "        return t"
   ]
  },
  {
   "cell_type": "code",
   "execution_count": 81,
   "metadata": {
    "collapsed": true
   },
   "outputs": [],
   "source": [
    "class Stimulus(object):\n",
    "    def __init__(self, exp_trial):\n",
    "        self.exp_trial = exp_trial\n",
    "        self.trial_number = self.exp_trial.trial_number\n",
    "        \n",
    "        self.binsize = self.exp_trial.expt.exp_dt  # in msec\n",
    "\n",
    "        # number of bins, i.e. number of stimulus values to compute\n",
    "        # the first bin has 0 width and corresponds to the stimulus presentation\n",
    "        # at the start of the trial, when t = 0.\n",
    "        # So for a trial of length T = N x exp_dt msecs, there will be an observation\n",
    "        # at t = 0, t = exp_dt, t = 2 x exp_dt, ... , t = T \n",
    "        self.nbins = int(self.exp_trial.duration / self.binsize) + 1  \n",
    "\n",
    "        self.stim = self.gen_stim()\n",
    "        \n",
    "    def gen_stim(self):\n",
    "        \n",
    "\n",
    "        # stimulus vector to be filled by upcoming while loop\n",
    "        stimulus = np.zeros(self.nbins)\n",
    "\n",
    "        # loop variables\n",
    "        bin_nb = 0  # we start counting bins from 0\n",
    "        last_envt = self.exp_trial.init_state\n",
    "        cp_idx = 0\n",
    "\n",
    "        while bin_nb < self.nbins:\n",
    "            stim_idx = bin_nb  # index of array entry to fill in\n",
    "\n",
    "            # check environment state in current bin\n",
    "            curr_time = bin_nb * self.binsize  # in msec\n",
    "\n",
    "            if (self.exp_trial.cp_times.size == 0) or (curr_time < self.exp_trial.cp_times[cp_idx]):\n",
    "                new_envt = last_envt\n",
    "            else:\n",
    "                new_envt = self.exp_trial.expt.switch(last_envt)\n",
    "                if cp_idx < self.exp_trial.cp_times.size - 1:\n",
    "                    cp_idx += 1\n",
    "\n",
    "            # compute likelihood to generate stimulus value\n",
    "            stimulus[stim_idx] = self.exp_trial.randlh(new_envt)\n",
    "\n",
    "            # update variables for next iteration\n",
    "            last_envt = new_envt\n",
    "            bin_nb += 1\n",
    "\n",
    "        print('stimulus created')\n",
    "        print(stimulus)\n",
    "        return stimulus"
   ]
  },
  {
   "cell_type": "code",
   "execution_count": 82,
   "metadata": {
    "collapsed": true
   },
   "outputs": [],
   "source": [
    "class IdealObs(object):\n",
    "    def __init__(self, dt, expt, prior_states=np.array([.5, .5]),\n",
    "                 prior_h=np.array([1, 1])):\n",
    "        self.expt = expt  # reference to Experiment object\n",
    "        try:\n",
    "            if (self.expt.setof_trial_dur % dt) == 0:\n",
    "                self.dt = dt  # in msec\n",
    "            else:\n",
    "                raise AttributeError(\"Error in arguments: the observer's time\"\n",
    "                                     \"step size \"\n",
    "                                     \"'dt' \"\n",
    "                                     \"does not divide \"\n",
    "                                     \"the trial durations 'setof_trial_dur'\")\n",
    "        except AttributeError as err:\n",
    "            print(err.args)\n",
    "\n",
    "        self.prior_h = prior_h\n",
    "        self.prior_states = prior_states\n",
    "        \n",
    "        self.obs_noise = self.expt.setof_stim_noise\n",
    "        \n",
    "    # the following is the likelihood used by the ideal observer\n",
    "    # H = assumed state of the environment\n",
    "    # x = point at which to evaluate the pdf\n",
    "    def lh(self, H, x):\n",
    "        try:\n",
    "            if H in self.expt.states:\n",
    "                return scipy.stats.norm(H, self.obs_noise).pdf(x)\n",
    "            else:\n",
    "                raise ValueError(\"Error in argument H: must be an element of \"\n",
    "                                 \"Experiment.states\")\n",
    "        except ValueError as err:\n",
    "            print(err.args)"
   ]
  },
  {
   "cell_type": "code",
   "execution_count": 83,
   "metadata": {
    "collapsed": true
   },
   "outputs": [],
   "source": [
    "class ObsTrial(IdealObs):\n",
    "    def __init__(self, exp_trial, stimulus, dt, expt, prior_states=np.array([.5, .5])):\n",
    "        super().__init__(dt, expt, prior_states)\n",
    "        self.exp_trial = exp_trial\n",
    "        self.stimulus = stimulus\n",
    "        self.llr = []\n",
    "        self.decision = 0\n",
    "        self.obs_noise = self.exp_trial.stim_noise\n",
    "        self.trial_number = self.exp_trial.trial_number\n",
    "        self.obs = self.gen_obs()\n",
    "\n",
    "    def gen_obs(self):\n",
    "        return self.stimulus.stim\n",
    "\n",
    "#     def lh(self, H, x):\n",
    "#         IdealObs.lh(H.x)\n",
    "    \n",
    "    def infer(self):\n",
    "        #  initialize variables\n",
    "        N = self.obs.size  # total number of observations\n",
    "        Hp = self.expt.states[1]\n",
    "        Hm = self.expt.states[0]\n",
    "        joint_plus_new = np.zeros((N,1))\n",
    "        joint_plus_current = np.copy(joint_plus_new)\n",
    "        joint_minus_new = np.copy(joint_plus_new)\n",
    "        joint_minus_current = np.copy(joint_plus_new)\n",
    "        \n",
    "        # get first observation\n",
    "        x = self.obs[0]\n",
    "        \n",
    "        # First time step \n",
    "        # compute joint probabilities over state and change point count\n",
    "        joint_plus_current[0] = self.lh(Hp, x)\n",
    "        joint_minus_current[0] = self.lh(Hm, x)\n",
    "#         Fd = Hpc(1)+Hmc(1);\n",
    "#         Hpc(1) = Hpc(1)/Fd;\n",
    "#         Hmc(1) = Hmc(1)/Fd;\n",
    "        \n",
    "        # pursue algorithm if interrogation time is greater than 0\n",
    "        \n",
    "        \n",
    "        self.decision = 1"
   ]
  },
  {
   "cell_type": "markdown",
   "metadata": {},
   "source": [
    "## Test code"
   ]
  },
  {
   "cell_type": "code",
   "execution_count": 84,
   "metadata": {},
   "outputs": [
    {
     "name": "stdout",
     "output_type": "stream",
     "text": [
      "change point times are\n",
      "[]\n",
      "stimulus created\n",
      "[ 0.13138989  0.80689876  2.25314459 -0.29811985]\n",
      "Supposed to save here\n"
     ]
    }
   ],
   "source": [
    "Expt = Experiment(setof_stim_noise=1, exp_dt=40, setof_trial_dur=120, setof_h=1,\n",
    "                  tot_trial=1)\n",
    "Observer = IdealObs(dt=Expt.exp_dt, expt=Expt)\n",
    "Expt.launch(Observer)"
   ]
  },
  {
   "cell_type": "code",
   "execution_count": null,
   "metadata": {
    "collapsed": true
   },
   "outputs": [],
   "source": []
  }
 ],
 "metadata": {
  "kernelspec": {
   "display_name": "Python 3",
   "language": "python",
   "name": "python3"
  },
  "language_info": {
   "codemirror_mode": {
    "name": "ipython",
    "version": 3
   },
   "file_extension": ".py",
   "mimetype": "text/x-python",
   "name": "python",
   "nbconvert_exporter": "python",
   "pygments_lexer": "ipython3",
   "version": "3.6.1"
  }
 },
 "nbformat": 4,
 "nbformat_minor": 2
}
