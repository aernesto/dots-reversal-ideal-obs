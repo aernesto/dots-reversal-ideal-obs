{
 "cells": [
  {
   "cell_type": "code",
   "execution_count": null,
   "metadata": {},
   "outputs": [],
   "source": [
    "#going through the tutorial found here: http://dataset.readthedocs.io/en/latest/quickstart.html\n",
    "import dataset\n",
    "import yaml\n",
    "\n",
    "#Keeping sensitive information in the database.yml file.\n",
    "with open('database.yml', 'r') as file:\n",
    "    db_creds = yaml.load(file)\n",
    "\n",
    "# connecting to a PostgreSQL database\n",
    "db = dataset.connect('postgres://' + db_creds['Database']['user'] + ':' +\\\n",
    "                     db_creds['Database']['password'] + \\\n",
    "                     '@ec2-107-22-211-182.compute-1.amazonaws.com:5432/d2okjmlcsikbm')"
   ]
  },
  {
   "cell_type": "code",
   "execution_count": null,
   "metadata": {
    "collapsed": true
   },
   "outputs": [],
   "source": [
    "# get a reference to the table 'user'\n",
    "table = db['user']\n"
   ]
  },
  {
   "cell_type": "code",
   "execution_count": null,
   "metadata": {},
   "outputs": [],
   "source": [
    "# Insert a new record.\n",
    "table.insert(dict(name='John Doe', age=46, country='China'))\n",
    "\n",
    "# dataset will create \"missing\" columns any time you insert a dict with an unknown key\n",
    "table.insert(dict(name='Jane Doe', age=37, country='France', gender='female'))"
   ]
  },
  {
   "cell_type": "code",
   "execution_count": null,
   "metadata": {},
   "outputs": [],
   "source": [
    "table.update(dict(name='John Doe', age=47), ['name'])\n",
    "\n"
   ]
  },
  {
   "cell_type": "code",
   "execution_count": null,
   "metadata": {},
   "outputs": [],
   "source": [
    "#list tables of a database\n",
    "print(db.tables)"
   ]
  },
  {
   "cell_type": "code",
   "execution_count": null,
   "metadata": {},
   "outputs": [],
   "source": [
    "#list columns available in a specific table\n",
    "print(db['user'].columns)"
   ]
  },
  {
   "cell_type": "code",
   "execution_count": null,
   "metadata": {
    "collapsed": true
   },
   "outputs": [],
   "source": [
    "#use len() to get the total number of rows in a table\n",
    "print(len(db['user']))"
   ]
  },
  {
   "cell_type": "code",
   "execution_count": null,
   "metadata": {
    "collapsed": true
   },
   "outputs": [],
   "source": [
    "#Functions seem to work! See the rest of the tutorial for more information\n",
    "#http://dataset.readthedocs.io/en/latest/quickstart.html\n"
   ]
  }
 ],
 "metadata": {
  "kernelspec": {
   "display_name": "Python (myenv)",
   "language": "python",
   "name": "myenv"
  },
  "language_info": {
   "codemirror_mode": {
    "name": "ipython",
    "version": 3
   },
   "file_extension": ".py",
   "mimetype": "text/x-python",
   "name": "python",
   "nbconvert_exporter": "python",
   "pygments_lexer": "ipython3",
   "version": "3.6.2"
  }
 },
 "nbformat": 4,
 "nbformat_minor": 2
}
